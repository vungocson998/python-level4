{
 "cells": [
  {
   "cell_type": "code",
   "execution_count": 2,
   "metadata": {},
   "outputs": [],
   "source": [
    "import numpy as np"
   ]
  },
  {
   "cell_type": "code",
   "execution_count": 3,
   "metadata": {},
   "outputs": [
    {
     "name": "stdout",
     "output_type": "stream",
     "text": [
      "[1 2 3]\n",
      "(3,)\n"
     ]
    }
   ],
   "source": [
    "arr1 = np.array([1,\n",
    "                 2,\n",
    "                 3])\n",
    "print(arr1)\n",
    "print(arr1.shape)"
   ]
  },
  {
   "cell_type": "code",
   "execution_count": 26,
   "metadata": {},
   "outputs": [
    {
     "data": {
      "text/plain": [
       "array([ 4, 13, 22, 15])"
      ]
     },
     "execution_count": 26,
     "metadata": {},
     "output_type": "execute_result"
    }
   ],
   "source": [
    "np.convolve(np.array([1,2,3]), np.array([4,5]))"
   ]
  },
  {
   "cell_type": "code",
   "execution_count": 4,
   "metadata": {},
   "outputs": [
    {
     "name": "stdout",
     "output_type": "stream",
     "text": [
      "[[0.11111111 0.11111111 0.11111111]\n",
      " [0.11111111 0.11111111 0.11111111]\n",
      " [0.11111111 0.11111111 0.11111111]]\n",
      "(3, 3)\n"
     ]
    }
   ],
   "source": [
    "average_mask = 1/9*np.array([[1,1,1],\n",
    "                         [1,1,1],\n",
    "                         [1,1,1]])\n",
    "print(average_mask)\n",
    "print(average_mask.shape)"
   ]
  },
  {
   "cell_type": "code",
   "execution_count": 13,
   "metadata": {},
   "outputs": [
    {
     "name": "stdout",
     "output_type": "stream",
     "text": [
      "<class 'numpy.int64'>\n"
     ]
    }
   ],
   "source": [
    "vertical_edge_mask = np.array([[1,0,-1],\n",
    "                               [1,0,-1],\n",
    "                               [1,0,-1]])\n",
    "print(type(vertical_edge_mask[0][0]))\n",
    "image = np.array([[10, 10, 10, 0, 0, 0], \n",
    "                  [10, 10, 10, 0, 0, 0], \n",
    "                  [10, 10, 10, 0, 0, 0], \n",
    "                  [10, 10, 10, 0, 0, 0], \n",
    "                  [10, 10, 10, 0, 0, 0], \n",
    "                  [10, 10, 10, 0, 0, 0]])\n"
   ]
  },
  {
   "cell_type": "code",
   "execution_count": 6,
   "metadata": {},
   "outputs": [],
   "source": [
    "from scipy import signal"
   ]
  },
  {
   "cell_type": "code",
   "execution_count": 14,
   "metadata": {},
   "outputs": [
    {
     "name": "stdout",
     "output_type": "stream",
     "text": [
      "[[  0 -30 -30   0]\n",
      " [  0 -30 -30   0]\n",
      " [  0 -30 -30   0]\n",
      " [  0 -30 -30   0]]\n",
      "[[ 1  0 -1]\n",
      " [ 1  0 -1]\n",
      " [ 1  0 -1]]\n"
     ]
    }
   ],
   "source": [
    "image2 = signal.convolve2d(image, vertical_edge_mask, mode = \"valid\", boundary = \"fill\", fillvalue=0)\n",
    "print(image2)\n"
   ]
  },
  {
   "cell_type": "code",
   "execution_count": 15,
   "metadata": {},
   "outputs": [],
   "source": [
    "from scipy import ndimage"
   ]
  },
  {
   "cell_type": "code",
   "execution_count": 17,
   "metadata": {},
   "outputs": [
    {
     "name": "stdout",
     "output_type": "stream",
     "text": [
      "[[ 0  0 30 30  0  0]\n",
      " [ 0  0 30 30  0  0]\n",
      " [ 0  0 30 30  0  0]\n",
      " [ 0  0 30 30  0  0]\n",
      " [ 0  0 30 30  0  0]\n",
      " [ 0  0 30 30  0  0]]\n"
     ]
    }
   ],
   "source": [
    "image3 = ndimage.convolve(image, vertical_edge_mask[::-1,::-1])\n",
    "print(image3)"
   ]
  },
  {
   "cell_type": "code",
   "execution_count": null,
   "metadata": {},
   "outputs": [],
   "source": []
  }
 ],
 "metadata": {
  "kernelspec": {
   "display_name": "Python 3",
   "language": "python",
   "name": "python3"
  },
  "language_info": {
   "codemirror_mode": {
    "name": "ipython",
    "version": 3
   },
   "file_extension": ".py",
   "mimetype": "text/x-python",
   "name": "python",
   "nbconvert_exporter": "python",
   "pygments_lexer": "ipython3",
   "version": "3.7.3"
  }
 },
 "nbformat": 4,
 "nbformat_minor": 2
}
